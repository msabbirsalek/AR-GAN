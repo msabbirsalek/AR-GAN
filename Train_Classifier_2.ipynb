{
 "cells": [
  {
   "cell_type": "code",
   "execution_count": null,
   "id": "f15ef7d0",
   "metadata": {
    "tags": []
   },
   "outputs": [],
   "source": [
    "import os\n",
    "import pickle\n",
    "import torch\n",
    "import torchvision\n",
    "import numpy as np\n",
    "from torch.utils.data import DataLoader, ConcatDataset\n",
    "from torch.utils.data import random_split\n",
    "from torchvision.utils import make_grid\n",
    "import torchvision.transforms as T\n",
    "import matplotlib\n",
    "import matplotlib.pyplot as plt\n",
    "%matplotlib inline\n",
    "\n",
    "matplotlib.rcParams['figure.facecolor'] = '#ffffff'\n",
    "\n",
    "random_seed = 42\n",
    "torch.manual_seed(random_seed);"
   ]
  },
  {
   "cell_type": "code",
   "execution_count": null,
   "id": "b6473f1f",
   "metadata": {
    "tags": []
   },
   "outputs": [],
   "source": [
    "# Load the data from the file\n",
    "with open('./data/reconstructed_train_ds.pickle', \"rb\") as file:\n",
    "    train_ds = pickle.load(file)\n",
    "\n",
    "with open('./data/reconstructed_val_ds.pickle', \"rb\") as file:\n",
    "    val_ds = pickle.load(file)\n",
    "\n",
    "with open('./data/reconstructed_test_ds.pickle', \"rb\") as file:\n",
    "    test_ds = pickle.load(file)"
   ]
  },
  {
   "cell_type": "code",
   "execution_count": null,
   "id": "a0a0e635",
   "metadata": {
    "tags": []
   },
   "outputs": [],
   "source": [
    "from collections import Counter\n",
    "train_images = [image for image, _ in train_ds]\n",
    "val_images = [image for image, _ in val_ds]\n",
    "test_images = [image for image, _ in test_ds]\n",
    "train_classes = [label for _, label in train_ds]\n",
    "val_classes = [label for _, label in val_ds]\n",
    "test_classes = [label for _, label in test_ds]\n",
    "\n",
    "train_class_size = Counter(train_classes)\n",
    "val_class_size = Counter(val_classes)\n",
    "test_class_size = Counter(test_classes)\n",
    "all_class_size = train_class_size + val_class_size + test_class_size\n",
    "\n",
    "print(f'Size of train classes: {train_class_size}')\n",
    "print(f'Size of validation classes: {val_class_size}')\n",
    "print(f'Size of test classes: {test_class_size}')\n",
    "print(f'Size of all classes in train, val, and test sets: {all_class_size}')"
   ]
  },
  {
   "cell_type": "code",
   "execution_count": null,
   "id": "a47f7355-b5fd-4a12-bb5b-ee618953b3c8",
   "metadata": {
    "tags": []
   },
   "outputs": [],
   "source": [
    "batch_size = 64\n",
    "num_classes = 2\n",
    "n_cores = os.cpu_count()\n",
    "\n",
    "torch.cuda.empty_cache()\n",
    "\n",
    "train_dl = DataLoader(train_ds, batch_size, shuffle=True, num_workers=int(n_cores/2), pin_memory=True)\n",
    "val_dl = DataLoader(val_ds, batch_size*2, shuffle=True, num_workers=int(n_cores/2), pin_memory=True)"
   ]
  },
  {
   "cell_type": "code",
   "execution_count": null,
   "id": "d02d8e1e",
   "metadata": {
    "tags": []
   },
   "outputs": [],
   "source": [
    "stats = (0.5, 0.5, 0.5), (0.5, 0.5, 0.5)\n",
    "\n",
    "def denorm(img_tensors):\n",
    "    return img_tensors * stats[1][0] + stats[0][0]\n",
    "\n",
    "def show_images(images, nmax=64):\n",
    "    fig, ax = plt.subplots(figsize=(8, 8))\n",
    "    ax.set_xticks([]); ax.set_yticks([])\n",
    "    ax.imshow(make_grid(denorm(images.detach()[:nmax]), nrow=8).permute(1, 2, 0))\n",
    "    #ax.imshow(make_grid(images.detach()[:nmax], nrow=8).permute(1, 2, 0))\n",
    "\n",
    "def show_batch(dl, nmax=64):\n",
    "    for images, _ in dl:\n",
    "        show_images(images, nmax)\n",
    "        break"
   ]
  },
  {
   "cell_type": "code",
   "execution_count": null,
   "id": "cdb8ba94",
   "metadata": {
    "tags": []
   },
   "outputs": [],
   "source": [
    "show_batch(train_dl)"
   ]
  },
  {
   "cell_type": "code",
   "execution_count": null,
   "id": "463010bb",
   "metadata": {
    "tags": []
   },
   "outputs": [],
   "source": [
    "# Move data to GPU\n",
    "from deviceSelector import DeviceDataLoader, to_device\n",
    "\n",
    "torch.cuda.empty_cache()\n",
    "train_dl = DeviceDataLoader(train_dl)\n",
    "val_dl = DeviceDataLoader(val_dl)\n",
    "\n",
    "print(f'train dataloader device: {train_dl.device}')\n",
    "print(f'validation dataloader device: {val_dl.device}')"
   ]
  },
  {
   "cell_type": "code",
   "execution_count": null,
   "id": "6b7365e9",
   "metadata": {
    "tags": []
   },
   "outputs": [],
   "source": [
    "# Load the model\n",
    "from deviceSelector import DeviceDataLoader, to_device\n",
    "from ResNet9 import ResNet9\n",
    "\n",
    "num_classes = 2\n",
    "\n",
    "model = to_device(ResNet9(3,num_classes),device='cuda')\n",
    "model.load_state_dict(torch.load('./trained_models/ResNet9/resnet9_m19.pth'))"
   ]
  },
  {
   "cell_type": "code",
   "execution_count": null,
   "id": "9bda8699",
   "metadata": {
    "tags": []
   },
   "outputs": [],
   "source": [
    "# Define training parameters\n",
    "epochs = 15\n",
    "max_lr = 0.01\n",
    "grad_clip = 0.1\n",
    "weight_decay = 1e-4\n",
    "opt_func = torch.optim.Adam"
   ]
  },
  {
   "cell_type": "code",
   "execution_count": null,
   "id": "13cfdcac",
   "metadata": {
    "tags": []
   },
   "outputs": [],
   "source": [
    "from ResNet9 import *\n",
    "\n",
    "history = [evaluate(model, val_dl)]\n",
    "\n",
    "%%time\n",
    "history += fit_one_cycle(epochs, max_lr, model, train_dl, val_dl, \n",
    "                             grad_clip=grad_clip, \n",
    "                             weight_decay=weight_decay, \n",
    "                             opt_func=opt_func)"
   ]
  },
  {
   "cell_type": "code",
   "execution_count": null,
   "id": "a9e4281f",
   "metadata": {
    "tags": []
   },
   "outputs": [],
   "source": [
    "from plot_history import *\n",
    "\n",
    "plot_accuracies(history)"
   ]
  },
  {
   "cell_type": "code",
   "execution_count": null,
   "id": "0f0fb9ac",
   "metadata": {
    "tags": []
   },
   "outputs": [],
   "source": [
    "plot_losses(history)"
   ]
  },
  {
   "cell_type": "code",
   "execution_count": null,
   "id": "6e954068",
   "metadata": {
    "tags": []
   },
   "outputs": [],
   "source": [
    "plot_lrs(history)"
   ]
  },
  {
   "cell_type": "code",
   "execution_count": null,
   "id": "49d43d13",
   "metadata": {
    "tags": []
   },
   "outputs": [],
   "source": [
    "# Save the model\n",
    "torch.save(model.state_dict(), './trained_models/ResNet9/resnet9_m19_retrained.pth')"
   ]
  },
  {
   "cell_type": "code",
   "execution_count": null,
   "id": "7bd49aa9",
   "metadata": {
    "tags": []
   },
   "outputs": [],
   "source": [
    "def predict_image(img, model, device='cuda'):\n",
    "    xb = to_device(img.unsqueeze(0), device)\n",
    "    yb = model(xb)\n",
    "    _, preds  = torch.max(yb, dim=1)\n",
    "    return preds[0].item()"
   ]
  },
  {
   "cell_type": "code",
   "execution_count": null,
   "id": "2e2a07db",
   "metadata": {
    "tags": []
   },
   "outputs": [],
   "source": [
    "from sklearn.metrics import classification_report\n",
    "\n",
    "def eval_test(test_ds, model, device='cuda'):\n",
    "    with torch.no_grad():\n",
    "        correct = 0\n",
    "        total = 0\n",
    "        y_true = []\n",
    "        y_pred = []\n",
    "        \n",
    "        for img, label in test_ds:\n",
    "            xb = to_device(img.unsqueeze(0), device)\n",
    "            yb = model(xb)\n",
    "            _, preds  = torch.max(yb, dim=1)\n",
    "            total += 1\n",
    "            correct += (preds[0] == label).sum().item()\n",
    "            predicted=preds[0].to('cpu')\n",
    "            y_true.append(label)\n",
    "            y_pred.append(predicted)\n",
    "            \n",
    "        print('Test Accuracy: {}%'.format(100 * correct / total))\n",
    "\n",
    "        # Generate a classification report\n",
    "        print(classification_report(y_true, y_pred))"
   ]
  },
  {
   "cell_type": "code",
   "execution_count": null,
   "id": "2e8fc858",
   "metadata": {
    "tags": []
   },
   "outputs": [],
   "source": [
    "# Evaluate the model on the test dataset\n",
    "eval_test(test_ds, model)"
   ]
  }
 ],
 "metadata": {
  "kernelspec": {
   "display_name": "Python 3 (ipykernel)",
   "language": "python",
   "name": "python3"
  },
  "language_info": {
   "codemirror_mode": {
    "name": "ipython",
    "version": 3
   },
   "file_extension": ".py",
   "mimetype": "text/x-python",
   "name": "python",
   "nbconvert_exporter": "python",
   "pygments_lexer": "ipython3",
   "version": "3.9.12"
  }
 },
 "nbformat": 4,
 "nbformat_minor": 5
}
