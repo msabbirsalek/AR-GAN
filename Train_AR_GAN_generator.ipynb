{
 "cells": [
  {
   "cell_type": "code",
   "execution_count": null,
   "id": "b6438f5c",
   "metadata": {
    "tags": []
   },
   "outputs": [],
   "source": [
    "import os\n",
    "\n",
    "import torch\n",
    "import torchvision\n",
    "from torch.utils.data import DataLoader\n",
    "from torchsummary import summary\n",
    "\n",
    "import pickle\n",
    "from Split_data import random_split\n",
    "\n",
    "from WGAN_GP import Generator, Discriminator\n",
    "from Train_WGAN_GP import train_WGANGP\n",
    "\n",
    "random_seed = 42\n",
    "torch.manual_seed(random_seed);"
   ]
  },
  {
   "cell_type": "code",
   "execution_count": null,
   "id": "3afab63b",
   "metadata": {
    "tags": []
   },
   "outputs": [],
   "source": [
    "# Parameters\n",
    "INPUT_LATENT = 128\n",
    "batch_size = 128\n",
    "N_CORES = os.cpu_count()"
   ]
  },
  {
   "cell_type": "code",
   "execution_count": null,
   "id": "3fe28f6a-d841-42c3-9980-2c328155483e",
   "metadata": {
    "tags": []
   },
   "outputs": [],
   "source": [
    "# load dataset\n",
    "data_file_path = os.path.join(\"./data\", \"stop_speed.pkl\")\n",
    "\n",
    "# Load the data from the file\n",
    "with open(data_file_path, \"rb\") as data_file:\n",
    "    reduced_data = pickle.load(data_file)\n",
    "\n",
    "train_ds, val_ds, test_ds = random_split(reduced_data)\n",
    "\n",
    "train_loader = DataLoader(\n",
    "    train_ds, \n",
    "    batch_size, \n",
    "    shuffle=True, \n",
    "    num_workers=int(N_CORES/2), \n",
    "    pin_memory=True\n",
    ")\n",
    "\n",
    "val_loader = DataLoader(\n",
    "    test_ds, \n",
    "    batch_size*2, \n",
    "    num_workers=int(N_CORES/2), \n",
    "    pin_memory=True\n",
    ")"
   ]
  },
  {
   "cell_type": "code",
   "execution_count": null,
   "id": "05f689ce",
   "metadata": {
    "tags": []
   },
   "outputs": [],
   "source": [
    "# Set compute devices\n",
    "device_D = torch.device('cuda')\n",
    "device_G = torch.device('cuda')"
   ]
  },
  {
   "cell_type": "code",
   "execution_count": null,
   "id": "7b93e5de",
   "metadata": {
    "tags": []
   },
   "outputs": [],
   "source": [
    "# load generator model\n",
    "netG = Generator()\n",
    "summary(netG, input_size = (INPUT_LATENT, 1, 1), device = 'cpu')"
   ]
  },
  {
   "cell_type": "code",
   "execution_count": null,
   "id": "9ca168d8",
   "metadata": {
    "tags": []
   },
   "outputs": [],
   "source": [
    "# load discriminator model\n",
    "netD = Discriminator()\n",
    "summary(netD, input_size = (3, 32, 32), device = 'cpu')"
   ]
  },
  {
   "cell_type": "code",
   "execution_count": null,
   "id": "29c0a8d1",
   "metadata": {
    "tags": []
   },
   "outputs": [],
   "source": [
    "# set folder to save model checkpoints \n",
    "model_folder = os.path.abspath('./trained_models/WGAN_GP')\n",
    "if not os.path.exists(model_folder):\n",
    "    os.mkdir(model_folder)\n",
    "    \n",
    "# set folder to save generated images \n",
    "img_folder = os.path.abspath('./Generated_imgs')\n",
    "if not os.path.exists(img_folder):\n",
    "    os.mkdir(img_folder)"
   ]
  },
  {
   "cell_type": "code",
   "execution_count": null,
   "id": "ed8d897c",
   "metadata": {
    "tags": []
   },
   "outputs": [],
   "source": [
    "# Load last saved models (if any)\n",
    "check_point_path =  './trained_models/WGAN_GP/model_snapshots.pth' \n",
    "\n",
    "if os.path.exists(check_point_path):\n",
    "    checkpoint = torch.load(check_point_path)\n",
    "\n",
    "    inital_epoch = checkpoint['epoch']\n",
    "\n",
    "    netG.load_state_dict(checkpoint['netG_state_dict'])\n",
    "    netD.load_state_dict(checkpoint['netD_state_dict'])"
   ]
  },
  {
   "cell_type": "code",
   "execution_count": null,
   "id": "a94890b7",
   "metadata": {
    "tags": []
   },
   "outputs": [],
   "source": [
    "# Move models to GPU\n",
    "netG = netG.to(device_G)\n",
    "netD = netD.to(device_D)"
   ]
  },
  {
   "cell_type": "code",
   "execution_count": null,
   "id": "ea8ba369",
   "metadata": {
    "tags": []
   },
   "outputs": [],
   "source": [
    "# Train WGAN-GP\n",
    "inital_epoch = 0\n",
    "\n",
    "train_WGANGP(train_loader, val_loader, netD, netG, inital_epoch)"
   ]
  }
 ],
 "metadata": {
  "kernelspec": {
   "display_name": "Python 3 (ipykernel)",
   "language": "python",
   "name": "python3"
  },
  "language_info": {
   "codemirror_mode": {
    "name": "ipython",
    "version": 3
   },
   "file_extension": ".py",
   "mimetype": "text/x-python",
   "name": "python",
   "nbconvert_exporter": "python",
   "pygments_lexer": "ipython3",
   "version": "3.9.12"
  }
 },
 "nbformat": 4,
 "nbformat_minor": 5
}
