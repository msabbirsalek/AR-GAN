{
 "cells": [
  {
   "cell_type": "code",
   "execution_count": null,
   "id": "fd497311",
   "metadata": {
    "tags": []
   },
   "outputs": [],
   "source": [
    "import os\n",
    "import numpy as np\n",
    "import pickle\n",
    "import torch\n",
    "import torch.nn as nn\n",
    "import torchvision\n",
    "import torchvision.transforms as transforms\n",
    "import torchvision.transforms as T\n",
    "from torch.utils.data import DataLoader\n",
    "\n",
    "from utils_AR_GAN import adjust_lr, get_z_sets, get_z_star, Resize_Image\n",
    "from Split_data import random_split\n",
    "\n",
    "from WGAN_GP import Generator\n",
    "from torchsummary import summary\n",
    "import copy"
   ]
  },
  {
   "cell_type": "markdown",
   "id": "3535bd67",
   "metadata": {},
   "source": [
    "## Set Parameters"
   ]
  },
  {
   "cell_type": "code",
   "execution_count": null,
   "id": "42f9c5a7",
   "metadata": {
    "tags": []
   },
   "outputs": [],
   "source": [
    "batch_size = 128\n",
    "in_channel = 3\n",
    "height = 32\n",
    "width = 32\n",
    "num_classes = 2\n",
    "\n",
    "display_steps = 20"
   ]
  },
  {
   "cell_type": "markdown",
   "id": "9b791e4f",
   "metadata": {},
   "source": [
    "## Load Data"
   ]
  },
  {
   "cell_type": "code",
   "execution_count": null,
   "id": "43fa27a4",
   "metadata": {
    "tags": []
   },
   "outputs": [],
   "source": [
    "# load dataset\n",
    "data_file_path = os.path.join(\"./data\", \"stop_speed.pkl\")\n",
    "\n",
    "# Load the data from the file\n",
    "with open(data_file_path, \"rb\") as data_file:\n",
    "    reduced_data = pickle.load(data_file)\n",
    "\n",
    "train_ds, val_ds, test_ds = random_split(reduced_data)"
   ]
  },
  {
   "cell_type": "code",
   "execution_count": null,
   "id": "9b63940e",
   "metadata": {
    "tags": []
   },
   "outputs": [],
   "source": [
    "# Move data to GPU\n",
    "from deviceSelector import DeviceDataLoader, to_device\n",
    "\n",
    "torch.cuda.empty_cache()\n",
    "\n",
    "n_cores = os.cpu_count()\n",
    "test_loader = DataLoader(test_ds, \n",
    "                      batch_size, \n",
    "                      shuffle = False, \n",
    "                      num_workers = int(n_cores/2), \n",
    "                      pin_memory = True)\n",
    "test_loader = DeviceDataLoader(test_loader)"
   ]
  },
  {
   "cell_type": "code",
   "execution_count": null,
   "id": "05b5b179-b35b-4e4a-8582-96b3bcec77bc",
   "metadata": {
    "tags": []
   },
   "outputs": [],
   "source": [
    "from torchvision.utils import make_grid\n",
    "import matplotlib\n",
    "import matplotlib.pyplot as plt\n",
    "%matplotlib inline\n",
    "\n",
    "matplotlib.rcParams['figure.facecolor'] = '#ffffff'\n",
    "\n",
    "stats = (0.5, 0.5, 0.5), (0.5, 0.5, 0.5)\n",
    "\n",
    "def denorm(img_tensors):\n",
    "    return img_tensors * stats[1][0] + stats[0][0]\n",
    "\n",
    "def show_images(images, nmax=64):\n",
    "    fig, ax = plt.subplots(figsize=(8, 8))\n",
    "    ax.set_xticks([]); ax.set_yticks([])\n",
    "    ax.imshow(make_grid(denorm(images.cpu().detach()[:nmax]), nrow=8).permute(1, 2, 0))\n",
    "    #ax.imshow(make_grid(images.detach()[:nmax], nrow=8).permute(1, 2, 0))\n",
    "\n",
    "def show_batch(dl, nmax=64):\n",
    "    for images, _ in dl:\n",
    "        show_images(images, nmax)\n",
    "        break"
   ]
  },
  {
   "cell_type": "code",
   "execution_count": null,
   "id": "10f9e7a8-2c54-4e9e-bd84-0d87c49cc59a",
   "metadata": {
    "tags": []
   },
   "outputs": [],
   "source": [
    "show_batch(test_loader)"
   ]
  },
  {
   "cell_type": "markdown",
   "id": "3e62b0ba",
   "metadata": {},
   "source": [
    "## Load Classifier"
   ]
  },
  {
   "cell_type": "code",
   "execution_count": null,
   "id": "bef10850",
   "metadata": {
    "tags": []
   },
   "outputs": [],
   "source": [
    "from deviceSelector import DeviceDataLoader, to_device\n",
    "from ResNet9 import ResNet9\n",
    "\n",
    "device_model = 'cuda'\n",
    "model = to_device(ResNet9(3,num_classes), device='cuda')\n",
    "model.load_state_dict(torch.load('./trained_models/ResNet9/resnet9_m19_retrained.pth'))"
   ]
  },
  {
   "cell_type": "markdown",
   "id": "bb6ec087",
   "metadata": {},
   "source": [
    "## Load Defense-GAN"
   ]
  },
  {
   "cell_type": "code",
   "execution_count": null,
   "id": "037858c3",
   "metadata": {
    "tags": []
   },
   "outputs": [],
   "source": [
    "learning_rate = 10.0\n",
    "rec_iters = [1000]\n",
    "rec_rrs = [20]\n",
    "decay_rate = 0.1\n",
    "global_step = 3.0\n",
    "generator_input_size = 32\n",
    "\n",
    "INPUT_LATENT = 128\n",
    "device_generator = torch.device('cuda')"
   ]
  },
  {
   "cell_type": "code",
   "execution_count": null,
   "id": "d8da6cc4",
   "metadata": {
    "tags": []
   },
   "outputs": [],
   "source": [
    "ModelG = Generator()\n",
    "generator_path = './trained_models/WGAN_GP/G_lisa_gp_4519.pth'\n",
    "ModelG.load_state_dict(torch.load(generator_path))\n",
    "\n",
    "summary(ModelG, input_size = (INPUT_LATENT,1,1), device = 'cpu')"
   ]
  },
  {
   "cell_type": "code",
   "execution_count": null,
   "id": "e7c7d937",
   "metadata": {
    "tags": []
   },
   "outputs": [],
   "source": [
    "ModelG = ModelG.to(device_generator)\n",
    "loss = nn.MSELoss()"
   ]
  },
  {
   "cell_type": "markdown",
   "id": "917b196a",
   "metadata": {},
   "source": [
    "## Clean Image"
   ]
  },
  {
   "cell_type": "code",
   "execution_count": null,
   "id": "caa1711d",
   "metadata": {
    "tags": []
   },
   "outputs": [],
   "source": [
    "model.eval()\n",
    "\n",
    "running_corrects = 0\n",
    "epoch_size = 0\n",
    "\n",
    "is_input_size_diff = False\n",
    "\n",
    "save_test_results = []\n",
    "\n",
    "for rec_iter in rec_iters:\n",
    "    for rec_rr in rec_rrs:\n",
    "        \n",
    "        for batch_idx, (inputs, labels) in enumerate(test_loader):\n",
    "\n",
    "            # size change\n",
    "\n",
    "            if inputs.size(2) != generator_input_size :\n",
    "\n",
    "                target_shape = (inputs.size(0), inputs.size(1), generator_input_size, generator_input_size)\n",
    "\n",
    "                data = Resize_Image(target_shape, inputs)\n",
    "                data = data.to(device_generator)\n",
    "\n",
    "                is_input_size_diff = True\n",
    "\n",
    "            else :\n",
    "                data = inputs.to(device_generator)\n",
    "\n",
    "            # find z*\n",
    "\n",
    "            _, z_sets = get_z_sets2(ModelG, data, learning_rate, \\\n",
    "                                        loss, device_generator, rec_iter = rec_iter, \\\n",
    "                                        rec_rr = rec_rr, input_latent = INPUT_LATENT, global_step = global_step)\n",
    "\n",
    "            z_star = get_z_star(ModelG, data, z_sets, loss, device_generator)\n",
    "\n",
    "            # generate data\n",
    "\n",
    "            data_hat = ModelG(z_star.to(device_generator)).cpu().detach()\n",
    "\n",
    "            # size back\n",
    "\n",
    "            if is_input_size_diff:\n",
    "\n",
    "                target_shape = (inputs.size(0), inputs.size(1), height, width)\n",
    "                data_hat = Resize_Image(target_shape, data_hat)\n",
    "\n",
    "            # classifier \n",
    "            data_hat = data_hat.to(device_model)\n",
    "\n",
    "            labels = labels.to(device_model)\n",
    "\n",
    "            # evaluate \n",
    "\n",
    "            outputs = model(data_hat)\n",
    "\n",
    "            _, preds = torch.max(outputs, 1)\n",
    "\n",
    "            # statistics\n",
    "            running_corrects += torch.sum(preds == labels.data)\n",
    "            epoch_size += inputs.size(0)\n",
    "\n",
    "            if batch_idx % display_steps == 0:\n",
    "                print('{:>3}/{:>3} average acc {:.4f}\\r'\\\n",
    "                      .format(batch_idx+1, len(test_loader), running_corrects.double() / epoch_size))\n",
    "\n",
    "            del labels, outputs, preds, data, data_hat,z_star\n",
    "\n",
    "        test_acc = running_corrects.double() / epoch_size\n",
    "\n",
    "        print('rec_iter : {}, rec_rr : {}, Test Acc: {:.4f}'.format(rec_iter, rec_rr, test_acc))\n",
    "        \n",
    "        save_test_results.append(test_acc)"
   ]
  },
  {
   "cell_type": "code",
   "execution_count": null,
   "id": "684e0ad3",
   "metadata": {
    "tags": []
   },
   "outputs": [],
   "source": [
    "del test_loader"
   ]
  }
 ],
 "metadata": {
  "kernelspec": {
   "display_name": "Python 3 (ipykernel)",
   "language": "python",
   "name": "python3"
  },
  "language_info": {
   "codemirror_mode": {
    "name": "ipython",
    "version": 3
   },
   "file_extension": ".py",
   "mimetype": "text/x-python",
   "name": "python",
   "nbconvert_exporter": "python",
   "pygments_lexer": "ipython3",
   "version": "3.9.12"
  }
 },
 "nbformat": 4,
 "nbformat_minor": 5
}
